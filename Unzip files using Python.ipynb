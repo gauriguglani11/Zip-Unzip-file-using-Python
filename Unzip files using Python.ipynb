{
 "cells": [
  {
   "cell_type": "markdown",
   "id": "e086a7f5",
   "metadata": {},
   "source": [
    "# Extract Single Zip file with below code"
   ]
  },
  {
   "cell_type": "code",
   "execution_count": 1,
   "id": "6c8c5994",
   "metadata": {},
   "outputs": [],
   "source": [
    "# importing the zipfile module \n",
    "from zipfile import ZipFile \n"
   ]
  },
  {
   "cell_type": "code",
   "execution_count": 6,
   "id": "635dace8",
   "metadata": {},
   "outputs": [],
   "source": [
    "#This Python code is using the zipfile module to extract the one ZIP file.\n",
    "# loading the temp.zip and creating a zip object \n",
    "with ZipFile(\"C:\\\\Users\\\\gguglani\\\\Desktop\\\\MYPER\\\\EDA\\\\Code_Data+Analytics-2020032.zip\", 'r') as zObject: \n",
    "    zObject.extractall(path=\"C:\\\\Users\\\\gguglani\\\\Desktop\\\\MYPER\\\\EDA\")\n",
    "    \n",
    "\n"
   ]
  },
  {
   "cell_type": "markdown",
   "id": "cd5bdc56",
   "metadata": {},
   "source": [
    "# Extract Multiple Zip files together wth below code"
   ]
  },
  {
   "cell_type": "code",
   "execution_count": 7,
   "id": "d459c56e",
   "metadata": {},
   "outputs": [],
   "source": [
    "#below code is helping to extract multiple zip files\n",
    "zip_files = [\n",
    "    \"C:\\\\Users\\\\gguglani\\\\Desktop\\\\MYPER\\\\EDA\\\\Code_Data+Analytics-2020032.zip\",\n",
    "    \"C:\\\\Users\\\\gguglani\\\\Desktop\\\\MYPER\\\\EDA\\\\Code+-+Data+Science,+Analytics+_+AI+for+Business+_+the+Real+World™++2.zip\",\n",
    "    \"C:\\\\Users\\\\gguglani\\\\Desktop\\\\MYPER\\\\EDA\\\\Data Analytics-20200312T203556Z-001.zip\"\n",
    "]\n",
    "\n"
   ]
  },
  {
   "cell_type": "code",
   "execution_count": 8,
   "id": "64d48e8f",
   "metadata": {},
   "outputs": [],
   "source": [
    "# Destination directory for extraction\n",
    "destination_path = \"C:\\\\Users\\\\gguglani\\\\Desktop\\\\MYPER\\\\EDA\\\\multiple extraction test\"\n"
   ]
  },
  {
   "cell_type": "code",
   "execution_count": 9,
   "id": "cc1033d7",
   "metadata": {},
   "outputs": [],
   "source": [
    "for zip_file in zip_files:\n",
    "    with ZipFile(zip_file, 'r') as zObject:\n",
    "        zObject.extractall(path=destination_path)"
   ]
  },
  {
   "cell_type": "markdown",
   "id": "3df2a971",
   "metadata": {},
   "source": [
    "# Extracting single file from zip file"
   ]
  },
  {
   "cell_type": "code",
   "execution_count": 27,
   "id": "abb49f4c",
   "metadata": {},
   "outputs": [],
   "source": [
    "# importing the zipfile module \n",
    "from zipfile import ZipFile"
   ]
  },
  {
   "cell_type": "code",
   "execution_count": 31,
   "id": "e36956f1",
   "metadata": {},
   "outputs": [],
   "source": [
    "with ZipFile(\"C:\\\\Users\\\\gguglani\\\\Desktop\\\\MYPER\\\\EDA\\\\Code_Data+Analytics-2020032.zip\", 'r') as zip_file:\n",
    "    file_list = zip_file.namelist()\n",
    "    \n",
    "      "
   ]
  },
  {
   "cell_type": "code",
   "execution_count": 32,
   "id": "da76cd72",
   "metadata": {},
   "outputs": [
    {
     "name": "stdout",
     "output_type": "stream",
     "text": [
      "The file list are: ['Data Analytics/Case Study 21 – A_B Testing.ipynb', 'Data Analytics/Case Study 11 - Supply-Chain for Shipping Data Analytics.ipynb', 'Data Analytics/Case Study 6 - Customer Lifetime Value (CLV).ipynb', 'Data Analytics/Healthcare Diabeties .ipynb', 'Data Analytics/Case Study 5 - Text Analytics - Airline Tweets (Word Clusters).ipynb', 'Data Analytics/Case Study 16 - Pizza Resturants Analysis.ipynb', 'Data Analytics/Case Study 17 - Brewery and Pub Analysis.ipynb', 'Data Analytics/2009 vs 2014 Indian Election and an 2019 preview.ipynb', 'Data Analytics/Case Study 15 - Using Data to predict the Football (Soccer) World Cup Winner.ipynb', 'Data Analytics/Case Study 1 - Predict AirBnB Prices in Sydney.ipynb', 'Data Analytics/Home Advantage in Soccer and Basketball.ipynb', 'Data Analytics/Case Study 12 - Sports Analytics - Olypmics Analysis - The Greatest Olympians.ipynb', 'Data Analytics/Case Study 18 - EDA and Forecasting Brent Oil Prices.ipynb', 'Data Analytics/Case Study 14 - IPL Cricket Data Analytics.ipynb', 'Data Analytics/Case Study 19 - Time Series Forecasting for Sales.ipynb', 'Data Analytics/22.4 t-SNE vs PCA using Digits.ipynb', 'Data Analytics/22.3 Principal Component Analysis + Visualizations.ipynb', 'Data Analytics/Case Study 4 - Customer Clustering for Travel Agency Customers.ipynb', 'Data Analytics/Case Study 20 - Predicting Insurance Premiums.ipynb', 'Data Analytics/17.0 AB Testing Sample Size Calculation.ipynb', 'Data Analytics/4.0 Pandas 1 - Series.ipynb', 'Data Analytics/Case Study 3 - Marketing Analytics - What Drives Ad Performance.ipynb', 'Data Analytics/Case Study 9 - 2016 US President Election Analysis.ipynb', 'Data Analytics/6.0 Linear Regression.ipynb', 'Data Analytics/3.0 Python Crash Course.ipynb', 'Data Analytics/Case Study 2 - Retail Product Sales Analytics.ipynb', 'Data Analytics/22.2 DBSCAN Clustering.ipynb', 'Data Analytics/4.1 Pandas 2 - DataFrames Intro.ipynb', 'Data Analytics/6.3 K-Nearest Neigbors_', 'Data Analytics/6.1 Logistic Regression.ipynb', 'Data Analytics/5.1 Statistics 2 - Sampling.ipynb', 'Data Analytics/4.10 - Map Visualizations - Choropeth Maps.ipynb', 'Data Analytics/4.6 Pandas 7 - Basic Time Series Analysis.ipynb', 'Data Analytics/6.4 Outlier Effects.ipynb', 'Data Analytics/4.5 Pandas 6 - Concatenating, Merging and Joining .ipynb', 'Data Analytics/5.0 Statistics 1 - Visualuzations _ EDA.ipynb', 'Data Analytics/22.1 K-Means, Elbow Method and Silhouette Analysis.ipynb', 'Data Analytics/4.11 Map Visualizations - Heatmaps and lines.ipynb', 'Data Analytics/5.4 Statistics 5 - Hypothesis Testing.ipynb', 'Data Analytics/5.2 Statistics 3 - Analyzing Frequency Distributions, Mean,Mode,Median,STD,Correlation,Pairwise,Z-Scores.ipynb', 'Data Analytics/4.2 Pandas 3 - Data Cleaning.ipynb', 'Data Analytics/4.4 Pandas 5 - Feature Engineering.ipynb', 'Data Analytics/4.7 Pandas 8 - Advanced - iterows, vectorization and numpy.ipynb', 'Data Analytics/4.8 Pandas 9 - Advanced - map, zip and apply.ipynb', 'Data Analytics/4.9 Pandas 10 Advanced - Parallel Processing.ipynb', 'Data Analytics/Story Telling with Data - World Happiness.ipynb', 'Data Analytics/Case Study 8 - Africa Economic, Banking _ Systematic Crisis Data.ipynb', 'Data Analytics/4.3 Pandas 4 - Data Aggregation.ipynb', 'Data Analytics/6.2 SVMs, Randon Forests and KNN.ipynb', 'Data Analytics/5.3 Statistics 4 - Probabilities.ipynb']\n"
     ]
    }
   ],
   "source": [
    " print(\"The file list are:\",file_list)"
   ]
  },
  {
   "cell_type": "code",
   "execution_count": 38,
   "id": "9c408e44",
   "metadata": {},
   "outputs": [],
   "source": [
    "with ZipFile(\"C:\\\\Users\\\\gguglani\\\\Desktop\\\\MYPER\\\\EDA\\\\Code_Data+Analytics-2020032.zip\", 'r') as zObject: \n",
    "  \n",
    "    # Extracting specific file in the zip \n",
    "    # into a specific location. \n",
    "    zObject.extract( \"Data Analytics/Case Study 21 – A_B Testing.ipynb\", path=\"C:\\\\Users\\\\gguglani\\\\Desktop\") \n"
   ]
  }
 ],
 "metadata": {
  "kernelspec": {
   "display_name": "Python 3 (ipykernel)",
   "language": "python",
   "name": "python3"
  },
  "language_info": {
   "codemirror_mode": {
    "name": "ipython",
    "version": 3
   },
   "file_extension": ".py",
   "mimetype": "text/x-python",
   "name": "python",
   "nbconvert_exporter": "python",
   "pygments_lexer": "ipython3",
   "version": "3.9.12"
  }
 },
 "nbformat": 4,
 "nbformat_minor": 5
}
