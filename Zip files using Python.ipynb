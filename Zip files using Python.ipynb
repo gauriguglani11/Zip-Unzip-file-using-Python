{
 "cells": [
  {
   "cell_type": "code",
   "execution_count": 1,
   "id": "85348986",
   "metadata": {},
   "outputs": [],
   "source": [
    "from zipfile import ZipFile"
   ]
  },
  {
   "cell_type": "code",
   "execution_count": 2,
   "id": "30d99da7",
   "metadata": {},
   "outputs": [],
   "source": [
    "# Path to the file you want to zip\n",
    "file_to_zip = \"C:\\\\Users\\\\gguglani\\\\Desktop\\\\Data Analytics\\\\Case Study 21 – A_B Testing.ipynb\"\n",
    "\n",
    "# Destination path for the ZIP file\n",
    "zip_file_path = \"C:\\\\Users\\\\gguglani\\\\Desktop\\\\Data Analytics\\\\example.zip\"\n",
    "\n"
   ]
  },
  {
   "cell_type": "code",
   "execution_count": 6,
   "id": "fd02c58a",
   "metadata": {},
   "outputs": [],
   "source": [
    "# Create a ZipFile object in write mode ('w')\n",
    "with ZipFile(zip_file_path, 'w') as zipObject:\n",
    "    # Add the file to the ZIP archive\n",
    "    zipObject.write(file_to_zip, arcname=\"example.zip\")"
   ]
  }
 ],
 "metadata": {
  "kernelspec": {
   "display_name": "Python 3 (ipykernel)",
   "language": "python",
   "name": "python3"
  },
  "language_info": {
   "codemirror_mode": {
    "name": "ipython",
    "version": 3
   },
   "file_extension": ".py",
   "mimetype": "text/x-python",
   "name": "python",
   "nbconvert_exporter": "python",
   "pygments_lexer": "ipython3",
   "version": "3.9.12"
  }
 },
 "nbformat": 4,
 "nbformat_minor": 5
}
